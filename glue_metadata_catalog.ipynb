{
 "cells": [
  {
   "cell_type": "code",
   "execution_count": 18,
   "id": "c5bf52d9-9cd4-43f1-9997-1558a96a182d",
   "metadata": {
    "execution": {
     "iopub.execute_input": "2025-10-09T21:37:28.083244Z",
     "iopub.status.busy": "2025-10-09T21:37:28.082976Z",
     "iopub.status.idle": "2025-10-09T21:37:28.227121Z",
     "shell.execute_reply": "2025-10-09T21:37:28.226704Z",
     "shell.execute_reply.started": "2025-10-09T21:37:28.083219Z"
    },
    "executionRoleArn": "arn:aws-us-gov:iam::331875467123:role/EMRServerlessDataEngineerRuntimeRole",
    "tags": []
   },
   "outputs": [
    {
     "data": {
      "application/vnd.jupyter.widget-view+json": {
       "model_id": "4d5fc6cd2522464bad61770eefaa128a",
       "version_major": 2,
       "version_minor": 0
      },
      "text/plain": [
       "VBox()"
      ]
     },
     "metadata": {},
     "output_type": "display_data"
    },
    {
     "data": {
      "application/vnd.jupyter.widget-view+json": {
       "model_id": "",
       "version_major": 2,
       "version_minor": 0
      },
      "text/plain": [
       "FloatProgress(value=0.0, bar_style='info', description='Progress:', layout=Layout(height='25px', width='50%'),…"
      ]
     },
     "metadata": {},
     "output_type": "display_data"
    }
   ],
   "source": [
    "from pyspark.sql import SparkSession\n",
    "from pyspark.sql.functions import *\n",
    "from pyspark.sql.types import StructType, StructField, StringType, ArrayType, BooleanType"
   ]
  },
  {
   "cell_type": "code",
   "execution_count": 8,
   "id": "287ee0f0-ac5f-4dea-888c-7ae3db60ddf4",
   "metadata": {
    "execution": {
     "iopub.execute_input": "2025-10-09T20:56:19.515930Z",
     "iopub.status.busy": "2025-10-09T20:56:19.515656Z",
     "iopub.status.idle": "2025-10-09T20:56:19.644002Z",
     "shell.execute_reply": "2025-10-09T20:56:19.643600Z",
     "shell.execute_reply.started": "2025-10-09T20:56:19.515903Z"
    },
    "executionRoleArn": "arn:aws-us-gov:iam::331875467123:role/EMRServerlessDataEngineerRuntimeRole",
    "tags": []
   },
   "outputs": [
    {
     "data": {
      "application/vnd.jupyter.widget-view+json": {
       "model_id": "33036df2e875402eb8aa88745aa472c3",
       "version_major": 2,
       "version_minor": 0
      },
      "text/plain": [
       "VBox()"
      ]
     },
     "metadata": {},
     "output_type": "display_data"
    },
    {
     "data": {
      "application/vnd.jupyter.widget-view+json": {
       "model_id": "",
       "version_major": 2,
       "version_minor": 0
      },
      "text/plain": [
       "FloatProgress(value=0.0, bar_style='info', description='Progress:', layout=Layout(height='25px', width='50%'),…"
      ]
     },
     "metadata": {},
     "output_type": "display_data"
    }
   ],
   "source": [
    "\n",
    "S3_PATH = \"s3://entergy-govdatacore-raw-dev/dms_tables_metadata/\"\n",
    "DB_NAME = \"metadata_db\"\n",
    "TABLE_NAME = \"glue_cdc_metadata_table\""
   ]
  },
  {
   "cell_type": "code",
   "execution_count": 9,
   "id": "b0d9737f-29d1-4607-93c6-7904f69075ee",
   "metadata": {
    "execution": {
     "iopub.execute_input": "2025-10-09T20:56:21.023085Z",
     "iopub.status.busy": "2025-10-09T20:56:21.022808Z",
     "iopub.status.idle": "2025-10-09T20:56:21.139356Z",
     "shell.execute_reply": "2025-10-09T20:56:21.138893Z",
     "shell.execute_reply.started": "2025-10-09T20:56:21.023059Z"
    },
    "executionRoleArn": "arn:aws-us-gov:iam::331875467123:role/EMRServerlessDataEngineerRuntimeRole",
    "tags": []
   },
   "outputs": [
    {
     "data": {
      "application/vnd.jupyter.widget-view+json": {
       "model_id": "2673dcfdef5f4232a2b79b0b808ac136",
       "version_major": 2,
       "version_minor": 0
      },
      "text/plain": [
       "VBox()"
      ]
     },
     "metadata": {},
     "output_type": "display_data"
    },
    {
     "data": {
      "application/vnd.jupyter.widget-view+json": {
       "model_id": "",
       "version_major": 2,
       "version_minor": 0
      },
      "text/plain": [
       "FloatProgress(value=0.0, bar_style='info', description='Progress:', layout=Layout(height='25px', width='50%'),…"
      ]
     },
     "metadata": {},
     "output_type": "display_data"
    }
   ],
   "source": [
    "spark = SparkSession.builder \\\n",
    "    .appName(f\"GlueCDCMetadataControl\") \\\n",
    "    .enableHiveSupport() \\\n",
    "    .getOrCreate()"
   ]
  },
  {
   "cell_type": "code",
   "execution_count": 16,
   "id": "da93f054-4321-4b84-9c54-3ed980f3fdbf",
   "metadata": {
    "execution": {
     "iopub.execute_input": "2025-10-09T21:35:50.757082Z",
     "iopub.status.busy": "2025-10-09T21:35:50.756832Z",
     "iopub.status.idle": "2025-10-09T21:35:50.920428Z",
     "shell.execute_reply": "2025-10-09T21:35:50.919987Z",
     "shell.execute_reply.started": "2025-10-09T21:35:50.757057Z"
    },
    "executionRoleArn": "arn:aws-us-gov:iam::331875467123:role/EMRServerlessDataEngineerRuntimeRole",
    "tags": []
   },
   "outputs": [
    {
     "data": {
      "application/vnd.jupyter.widget-view+json": {
       "model_id": "7c4816caed9f4a9a987d4b7789141918",
       "version_major": 2,
       "version_minor": 0
      },
      "text/plain": [
       "VBox()"
      ]
     },
     "metadata": {},
     "output_type": "display_data"
    },
    {
     "data": {
      "application/vnd.jupyter.widget-view+json": {
       "model_id": "",
       "version_major": 2,
       "version_minor": 0
      },
      "text/plain": [
       "FloatProgress(value=0.0, bar_style='info', description='Progress:', layout=Layout(height='25px', width='50%'),…"
      ]
     },
     "metadata": {},
     "output_type": "display_data"
    }
   ],
   "source": [
    "records = [\n",
    "    # ESOM_GGN\n",
    "    {\"db_source\": \"ESOM_GGN\", \"table_name\": \"WORK_ORDER_DOCUMENTS\", \"input_prefix\": \"somggn_raw.db/work_order_documents/\", \"output_prefix\": \"somggn_dq.db/work_order_documents/\", \"load_type\": \"cdc\", \"last_full_load_date\": None, \"last_cdc_load_date\": None, \"pk_fields\": [\"SITE_CODE\", \"WORK_ORDER_NUMBER\", \"DOCUMENT_NUMBER\"]},\n",
    "    {\"db_source\": \"ESOM_GGN\", \"table_name\": \"SHIFT_STAFFING\", \"input_prefix\": \"somggn_raw.db/shift_staffing/\", \"output_prefix\": \"somggn_dq.db/shift_staffing/\", \"load_type\": \"cdc\", \"last_full_load_date\": None, \"last_cdc_load_date\": None, \"pk_fields\": [\"SITE_CODE\", \"LOG_ID\", \"SHIFT_ID\", \"SHIFT_DATE\", \"SHIFT_POSITION_NO\"]},\n",
    "    {\"db_source\": \"ESOM_GGN\", \"table_name\": \"LOG_ENTRY_DOCUMENTS\", \"input_prefix\": \"somggn_raw.db/log_entry_documents/\", \"output_prefix\": \"somggn_dq.db/log_entry_documents/\", \"load_type\": \"cdc\", \"last_full_load_date\": None, \"last_cdc_load_date\": None, \"pk_fields\": [\"site_code\", \"log_id\", \"shift_id\", \"shift_date\", \"entry_timestamp\", \"annotation_number\", \"document_number\"]},\n",
    "    {\"db_source\": \"ESOM_GGN\", \"table_name\": \"ACT_TAGOUT_SECTION_DOCUMENTS\", \"input_prefix\": \"somggn_raw.db/act_tagout_section_documents/\", \"output_prefix\": \"somggn_dq.db/act_tagout_section_documents/\", \"load_type\": \"cdc\", \"last_full_load_date\": None, \"last_cdc_load_date\": None, \"pk_fields\": [\"site_code\", \"tagout_type_id\", \"act_tagout_number\", \"act_tagout_section_number\", \"document_number\"]},\n",
    "    {\"db_source\": \"ESOM_GGN\", \"table_name\": \"REVISION_DOCUMENTS\", \"input_prefix\": \"somggn_raw.db/revision_documents/\", \"output_prefix\": \"somggn_dq.db/revision_documents/\", \"load_type\": \"cdc\", \"last_full_load_date\": None, \"last_cdc_load_date\": None, \"pk_fields\": [\"site_code\", \"tour\", \"rev_no\", \"sta\", \"document_number\"]},\n",
    "\n",
    "    # ESOM_RBS\n",
    "    {\"db_source\": \"ESOM_RBS\", \"table_name\": \"SHIFT_STAFFING\", \"input_prefix\": \"somrbs_raw.db/shift_staffing/\", \"output_prefix\": \"somrbs_dq.db/shift_staffing/\", \"load_type\": \"cdc\", \"last_full_load_date\": None, \"last_cdc_load_date\": None, \"pk_fields\": [\"site_code\", \"log_id\", \"shift_id\", \"shift_date\", \"shift_position_no\"]},\n",
    "    {\"db_source\": \"ESOM_RBS\", \"table_name\": \"LOG_ENTRY_DOCUMENTS\", \"input_prefix\": \"somrbs_raw.db/log_entry_documents/\", \"output_prefix\": \"somrbs_dq.db/log_entry_documents/\", \"load_type\": \"cdc\", \"last_full_load_date\": None, \"last_cdc_load_date\": None, \"pk_fields\": [\"site_code\", \"log_id\", \"shift_id\", \"shift_date\", \"entry_timestamp\", \"annotation_number\", \"document_number\"]},\n",
    "    {\"db_source\": \"ESOM_RBS\", \"table_name\": \"ACT_TAGOUT_SECTION_DOCUMENTS\", \"input_prefix\": \"somrbs_raw.db/act_tagout_section_documents/\", \"output_prefix\": \"somrbs_dq.db/act_tagout_section_documents/\", \"load_type\": \"cdc\", \"last_full_load_date\": None, \"last_cdc_load_date\": None, \"pk_fields\": [\"site_code\", \"tagout_type_id\", \"act_tagout_number\", \"act_tagout_section_number\", \"document_number\"]},\n",
    "    {\"db_source\": \"ESOM_RBS\", \"table_name\": \"TOUR_DOCUMENTS\", \"input_prefix\": \"somrbs_raw.db/tour_documents/\", \"output_prefix\": \"somrbs_dq.db/tour_documents/\", \"load_type\": \"cdc\", \"last_full_load_date\": None, \"last_cdc_load_date\": None, \"pk_fields\": [\"site_code\", \"tour\", \"shift_no\", \"sta\", \"dt\", \"reading_id\", \"document_number\"]},\n",
    "    {\"db_source\": \"ESOM_RBS\", \"table_name\": \"WORK_ORDER_DOCUMENTS\", \"input_prefix\": \"somrbs_raw.db/work_order_documents/\", \"output_prefix\": \"somrbs_dq.db/work_order_documents/\", \"load_type\": \"cdc\", \"last_full_load_date\": None, \"last_cdc_load_date\": None, \"pk_fields\": [\"site_code\", \"work_order_number\", \"document_number\"]},\n",
    "    {\"db_source\": \"ESOM_RBS\", \"table_name\": \"SPLIT_SHIFT_LIST\", \"input_prefix\": \"somrbs_raw.db/split_shift_list/\", \"output_prefix\": \"somrbs_dq.db/split_shift_list/\", \"load_type\": \"cdc\", \"last_full_load_date\": None, \"last_cdc_load_date\": None, \"pk_fields\": [\"site_code\", \"log_id\", \"shift_id\", \"shift_date\", \"shift_position_no\", \"user_id\", \"relieved_dt\"]},\n",
    "\n",
    "    # ESOM_ANO\n",
    "    {\"db_source\": \"ESOM_ANO\", \"table_name\": \"SHIFT_STAFFING\", \"input_prefix\": \"somano_raw.db/shift_staffing/\", \"output_prefix\": \"somano_dq.db/shift_staffing/\", \"load_type\": \"cdc\", \"last_full_load_date\": None, \"last_cdc_load_date\": None, \"pk_fields\": [\"site_code\", \"log_id\", \"shift_id\", \"shift_date\", \"shift_position_no\"]},\n",
    "    {\"db_source\": \"ESOM_ANO\", \"table_name\": \"LOG_ENTRY_DOCUMENTS\", \"input_prefix\": \"somano_raw.db/log_entry_documents/\", \"output_prefix\": \"somano_dq.db/log_entry_documents/\", \"load_type\": \"cdc\", \"last_full_load_date\": None, \"last_cdc_load_date\": None, \"pk_fields\": [\"site_code\", \"log_id\", \"shift_id\", \"shift_date\", \"entry_timestamp\", \"annotation_number\", \"document_number\"]},\n",
    "    {\"db_source\": \"ESOM_ANO\", \"table_name\": \"ACT_TAGOUT_SECTION_DOCUMENTS\", \"input_prefix\": \"somano_raw.db/act_tagout_section_documents/\", \"output_prefix\": \"somano_dq.db/act_tagout_section_documents/\", \"load_type\": \"cdc\", \"last_full_load_date\": None, \"last_cdc_load_date\": None, \"pk_fields\": [\"site_code\", \"tagout_type_id\", \"act_tagout_number\", \"act_tagout_section_number\", \"document_number\"]},\n",
    "\n",
    "    # P6\n",
    "    {\"db_source\": \"P6\", \"table_name\": \"TASKACTV\", \"input_prefix\": \"p6_raw.db/taskactv/\", \"output_prefix\": \"p6_dq.db/taskactv/\", \"load_type\": \"cdc\", \"last_full_load_date\": None, \"last_cdc_load_date\": None, \"pk_fields\": [\"task_id\", \"actv_code_type_id\"]},\n",
    "    {\"db_source\": \"P6\", \"table_name\": \"UDFVALUE\", \"input_prefix\": \"p6_raw.db/udfvalue/\", \"output_prefix\": \"p6_dq.db/udfvalue/\", \"load_type\": \"cdc\", \"last_full_load_date\": None, \"last_cdc_load_date\": None, \"pk_fields\": [\"udf_type_id\", \"fk_id\"]},\n",
    "    {\"db_source\": \"P6\", \"table_name\": \"TASKPRED\", \"input_prefix\": \"p6_raw.db/taskpred/\", \"output_prefix\": \"p6_dq.db/taskpred/\", \"load_type\": \"cdc\", \"last_full_load_date\": None, \"last_cdc_load_date\": None, \"pk_fields\": [\"task_pred_id\"]},\n",
    "    {\"db_source\": \"P6\", \"table_name\": \"TASKRSRC\", \"input_prefix\": \"p6_raw.db/taskrsrc/\", \"output_prefix\": \"p6_dq.db/taskrsrc/\", \"load_type\": \"cdc\", \"last_full_load_date\": None, \"last_cdc_load_date\": None, \"pk_fields\": [\"taskrsrc_id\"]},\n",
    "    {\"db_source\": \"P6\", \"table_name\": \"TASKMEMO\", \"input_prefix\": \"p6_raw.db/taskmemo/\", \"output_prefix\": \"p6_dq.db/taskmemo/\", \"load_type\": \"cdc\", \"last_full_load_date\": None, \"last_cdc_load_date\": None, \"pk_fields\": [\"memo_id\"]},\n",
    "    {\"db_source\": \"P6\", \"table_name\": \"TASKFDBK\", \"input_prefix\": \"p6_raw.db/taskfdbk/\", \"output_prefix\": \"p6_dq.db/taskfdbk/\", \"load_type\": \"cdc\", \"last_full_load_date\": None, \"last_cdc_load_date\": None, \"pk_fields\": [\"task_id\"]},\n",
    "    {\"db_source\": \"P6\", \"table_name\": \"VIEWPROP\", \"input_prefix\": \"p6_raw.db/viewprop/\", \"output_prefix\": \"p6_dq.db/viewprop/\", \"load_type\": \"cdc\", \"last_full_load_date\": None, \"last_cdc_load_date\": None, \"pk_fields\": [\"view_id\"]},\n",
    "    {\"db_source\": \"P6\", \"table_name\": \"TASKPROC\", \"input_prefix\": \"p6_raw.db/taskproc/\", \"output_prefix\": \"p6_dq.db/taskproc/\", \"load_type\": \"cdc\", \"last_full_load_date\": None, \"last_cdc_load_date\": None, \"pk_fields\": [\"proc_id\"]},\n",
    "    {\"db_source\": \"P6\", \"table_name\": \"TASKNOTE\", \"input_prefix\": \"p6_raw.db/tasknote/\", \"output_prefix\": \"p6_dq.db/tasknote/\", \"load_type\": \"cdc\", \"last_full_load_date\": None, \"last_cdc_load_date\": None, \"pk_fields\": [\"task_id\"]},\n",
    "    {\"db_source\": \"P6\", \"table_name\": \"FILTPROP\", \"input_prefix\": \"p6_raw.db/filtprop/\", \"output_prefix\": \"p6_dq.db/filtprop/\", \"load_type\": \"cdc\", \"last_full_load_date\": None, \"last_cdc_load_date\": None, \"pk_fields\": [\"filter_id\"]},\n",
    "    {\"db_source\": \"P6\", \"table_name\": \"PROJCOST\", \"input_prefix\": \"p6_raw.db/projcost/\", \"output_prefix\": \"p6_dq.db/projcost/\", \"load_type\": \"cdc\", \"last_full_load_date\": None, \"last_cdc_load_date\": None, \"pk_fields\": [\"cost_item_id\"]},\n",
    "\n",
    "    # ENGAGEFIN\n",
    "    {\"db_source\": \"ENGAGEFIN\", \"table_name\": \"ENG_LOG\", \"input_prefix\": \"engagefin_raw.db/eng_log/\", \"output_prefix\": \"engagefin_dq.db/eng_log/\", \"load_type\": \"cdc\", \"last_full_load_date\": None, \"last_cdc_load_date\": None, \"pk_fields\": []},\n",
    "    {\"db_source\": \"ENGAGEFIN\", \"table_name\": \"ENG_PROCESS_LOG\", \"input_prefix\": \"engagefin_raw.db/eng_process_log/\", \"output_prefix\": \"engagefin_dq.db/eng_process_log/\", \"load_type\": \"cdc\", \"last_full_load_date\": None, \"last_cdc_load_date\": None, \"pk_fields\": []},\n",
    "    {\"db_source\": \"ENGAGEFIN\", \"table_name\": \"LCM_WORKBOOK_STAGE_VALUES\", \"input_prefix\": \"engagefin_raw.db/lcm_workbook_stage_values/\", \"output_prefix\": \"engagefin_dq.db/lcm_workbook_stage_values/\", \"load_type\": \"cdc\", \"last_full_load_date\": None, \"last_cdc_load_date\": None, \"pk_fields\": []}\n",
    "]"
   ]
  },
  {
   "cell_type": "code",
   "execution_count": 21,
   "id": "8a550e2e-4b45-461a-b07e-df55584831c1",
   "metadata": {
    "execution": {
     "iopub.execute_input": "2025-10-09T21:38:23.858469Z",
     "iopub.status.busy": "2025-10-09T21:38:23.858217Z",
     "iopub.status.idle": "2025-10-09T21:38:23.982212Z",
     "shell.execute_reply": "2025-10-09T21:38:23.981813Z",
     "shell.execute_reply.started": "2025-10-09T21:38:23.858444Z"
    },
    "executionRoleArn": "arn:aws-us-gov:iam::331875467123:role/EMRServerlessDataEngineerRuntimeRole",
    "tags": []
   },
   "outputs": [
    {
     "data": {
      "application/vnd.jupyter.widget-view+json": {
       "model_id": "4f9502f3a4cb42c9a52d375f4199d0b2",
       "version_major": 2,
       "version_minor": 0
      },
      "text/plain": [
       "VBox()"
      ]
     },
     "metadata": {},
     "output_type": "display_data"
    },
    {
     "data": {
      "application/vnd.jupyter.widget-view+json": {
       "model_id": "",
       "version_major": 2,
       "version_minor": 0
      },
      "text/plain": [
       "FloatProgress(value=0.0, bar_style='info', description='Progress:', layout=Layout(height='25px', width='50%'),…"
      ]
     },
     "metadata": {},
     "output_type": "display_data"
    }
   ],
   "source": [
    "schema = StructType([\n",
    "    StructField(\"db_source\", StringType(), True),\n",
    "    StructField(\"table_name\", StringType(), True),\n",
    "    StructField(\"input_prefix\", StringType(), True),\n",
    "    StructField(\"output_prefix\", StringType(), True),\n",
    "    StructField(\"load_type\", StringType(), True),\n",
    "    StructField(\"last_full_load_date\", StringType(), True),  # Use DateType if you have actual date objects\n",
    "    StructField(\"last_cdc_load_date\", StringType(), True),\n",
    "    StructField(\"pk_fields\", ArrayType(StringType()), True)\n",
    "])"
   ]
  },
  {
   "cell_type": "code",
   "execution_count": 22,
   "id": "d6e0318b-24e9-4e3e-836f-e38d607f558d",
   "metadata": {
    "execution": {
     "iopub.execute_input": "2025-10-09T21:38:24.857471Z",
     "iopub.status.busy": "2025-10-09T21:38:24.857211Z",
     "iopub.status.idle": "2025-10-09T21:38:25.195940Z",
     "shell.execute_reply": "2025-10-09T21:38:25.195518Z",
     "shell.execute_reply.started": "2025-10-09T21:38:24.857446Z"
    },
    "executionRoleArn": "arn:aws-us-gov:iam::331875467123:role/EMRServerlessDataEngineerRuntimeRole",
    "tags": []
   },
   "outputs": [
    {
     "data": {
      "application/vnd.jupyter.widget-view+json": {
       "model_id": "ba3b0227450044feb9163cdf3efa6a1e",
       "version_major": 2,
       "version_minor": 0
      },
      "text/plain": [
       "VBox()"
      ]
     },
     "metadata": {},
     "output_type": "display_data"
    },
    {
     "data": {
      "application/vnd.jupyter.widget-view+json": {
       "model_id": "",
       "version_major": 2,
       "version_minor": 0
      },
      "text/plain": [
       "FloatProgress(value=0.0, bar_style='info', description='Progress:', layout=Layout(height='25px', width='50%'),…"
      ]
     },
     "metadata": {},
     "output_type": "display_data"
    }
   ],
   "source": [
    "df = spark.createDataFrame(records, schema=schema)"
   ]
  },
  {
   "cell_type": "code",
   "execution_count": 23,
   "id": "c22aa966-8f5b-4f1b-ad7a-a08397d62ed2",
   "metadata": {
    "execution": {
     "iopub.execute_input": "2025-10-09T21:40:37.501472Z",
     "iopub.status.busy": "2025-10-09T21:40:37.501194Z",
     "iopub.status.idle": "2025-10-09T21:40:39.950653Z",
     "shell.execute_reply": "2025-10-09T21:40:39.950216Z",
     "shell.execute_reply.started": "2025-10-09T21:40:37.501445Z"
    },
    "executionRoleArn": "arn:aws-us-gov:iam::331875467123:role/EMRServerlessDataEngineerRuntimeRole",
    "tags": []
   },
   "outputs": [
    {
     "data": {
      "application/vnd.jupyter.widget-view+json": {
       "model_id": "86f6b1629aac422ebfe055c0ce8aabc6",
       "version_major": 2,
       "version_minor": 0
      },
      "text/plain": [
       "VBox()"
      ]
     },
     "metadata": {},
     "output_type": "display_data"
    },
    {
     "data": {
      "application/vnd.jupyter.widget-view+json": {
       "model_id": "",
       "version_major": 2,
       "version_minor": 0
      },
      "text/plain": [
       "FloatProgress(value=0.0, bar_style='info', description='Progress:', layout=Layout(height='25px', width='50%'),…"
      ]
     },
     "metadata": {},
     "output_type": "display_data"
    },
    {
     "name": "stdout",
     "output_type": "stream",
     "text": [
      "DataFrame[]"
     ]
    }
   ],
   "source": [
    "spark.sql(\"CREATE DATABASE IF NOT EXISTS metadata_db\")"
   ]
  },
  {
   "cell_type": "code",
   "execution_count": 25,
   "id": "62f70e7c-1829-448a-8e64-31301dc9c36e",
   "metadata": {
    "execution": {
     "iopub.execute_input": "2025-10-09T21:47:55.413736Z",
     "iopub.status.busy": "2025-10-09T21:47:55.413468Z",
     "iopub.status.idle": "2025-10-09T21:48:00.886041Z",
     "shell.execute_reply": "2025-10-09T21:48:00.885618Z",
     "shell.execute_reply.started": "2025-10-09T21:47:55.413710Z"
    },
    "executionRoleArn": "arn:aws-us-gov:iam::331875467123:role/EMRServerlessDataEngineerRuntimeRole",
    "tags": []
   },
   "outputs": [
    {
     "data": {
      "application/vnd.jupyter.widget-view+json": {
       "model_id": "59be77451d51464192a036befdb8735f",
       "version_major": 2,
       "version_minor": 0
      },
      "text/plain": [
       "VBox()"
      ]
     },
     "metadata": {},
     "output_type": "display_data"
    },
    {
     "data": {
      "application/vnd.jupyter.widget-view+json": {
       "model_id": "",
       "version_major": 2,
       "version_minor": 0
      },
      "text/plain": [
       "FloatProgress(value=0.0, bar_style='info', description='Progress:', layout=Layout(height='25px', width='50%'),…"
      ]
     },
     "metadata": {},
     "output_type": "display_data"
    }
   ],
   "source": [
    "df.coalesce(1).write \\\n",
    "    .mode(\"overwrite\") \\\n",
    "    .format(\"parquet\") \\\n",
    "    .option(\"path\", S3_PATH) \\\n",
    "    .saveAsTable(f\"{DB_NAME}.{TABLE_NAME}\")"
   ]
  },
  {
   "cell_type": "code",
   "execution_count": null,
   "id": "ea0f24a7-0aa2-45b7-a66a-f4e1b7201222",
   "metadata": {},
   "outputs": [],
   "source": []
  }
 ],
 "metadata": {
  "kernelspec": {
   "display_name": "PySpark",
   "language": "python",
   "name": "spark_magic_pyspark"
  },
  "language_info": {
   "codemirror_mode": {
    "name": "python",
    "version": 3
   },
   "file_extension": ".py",
   "mimetype": "text/x-python",
   "name": "pyspark",
   "pygments_lexer": "python3"
  }
 },
 "nbformat": 4,
 "nbformat_minor": 5
}
